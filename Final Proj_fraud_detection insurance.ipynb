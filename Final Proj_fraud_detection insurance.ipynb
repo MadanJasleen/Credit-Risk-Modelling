{
 "cells": [
  {
   "cell_type": "code",
   "execution_count": 1,
   "id": "299dc8e5-b1cd-4201-bc8c-35d5f35f936b",
   "metadata": {},
   "outputs": [],
   "source": [
    "#!pip3 install xgboost"
   ]
  },
  {
   "cell_type": "code",
   "execution_count": 2,
   "id": "ebd90631-d8cc-43fa-9650-2361a8111856",
   "metadata": {},
   "outputs": [],
   "source": [
    "import pandas as pd\n",
    "import numpy as np\n",
    "import matplotlib.pyplot as plt\n",
    "import seaborn as sns\n",
    "import plotly.express as px\n",
    "from sklearn.metrics import r2_score\n",
    "from scipy.stats import chi2_contingency\n",
    "from statsmodels.stats.outliers_influence import variance_inflation_factor\n",
    "from sklearn.model_selection import train_test_split\n",
    "import xgboost as xgb\n",
    "from sklearn.linear_model import LogisticRegression\n",
    "from sklearn.ensemble import RandomForestClassifier\n",
    "from sklearn.preprocessing import LabelEncoder\n",
    "from sklearn.metrics import accuracy_score, classification_report, precision_recall_fscore_support\n",
    "from sklearn.experimental import enable_iterative_imputer\n",
    "from sklearn.impute import IterativeImputer\n",
    "from sklearn.tree import DecisionTreeClassifier\n",
    "from sklearn.preprocessing import StandardScaler\n",
    "import warnings\n",
    "import os"
   ]
  },
  {
   "cell_type": "markdown",
   "id": "be0ec009-0f93-4096-8617-688b7be91926",
   "metadata": {},
   "source": [
    "# Problem Statement - Credit Risk Modelling\n",
    "\n",
    "### To predict which customers to give out a loan to based on the chances of default."
   ]
  },
  {
   "cell_type": "markdown",
   "id": "762bdef8-87ac-4ac5-8768-7bd999685d83",
   "metadata": {},
   "source": [
    "### Asset for bbanks - loans, credit cards\n",
    "### Liabilities for banks - CASA, Term Deposits"
   ]
  },
  {
   "cell_type": "code",
   "execution_count": 5,
   "id": "f3b23f88-69d0-4d24-b89e-f386c7ab78e5",
   "metadata": {},
   "outputs": [],
   "source": [
    "#OSP =Outstanding Principal \n",
    "#DPD - Days past Due\n",
    "#PAR - Porfolio at Risk  - OSP when DPD >0\n",
    "#NPA - DPD>90days - Loan Account becomes NPA\n",
    "#Non deliquent account - DPD = 0 \n",
    "#DPD -0 to 30 - SMA1 (Standard Monitoring Account), 30-60 - SMA2 , 60-90 - SMA3 \n",
    "#DPD > 180 - written off - bank writes this off because NPA figure for banks imporve, their loan portfolio will look better, market sentiment positive\n",
    "\n"
   ]
  },
  {
   "cell_type": "code",
   "execution_count": 6,
   "id": "182ae85d-42af-42fa-8218-bb9696340668",
   "metadata": {},
   "outputs": [],
   "source": [
    "#when investing in bank stocks one looks at GNPA and NNPA\n",
    "#Gross NPA - 3 to 5 % - OSP default - assess bank quality \n",
    "#Net NPA - 0.01 to 0.06 - Provisioning amount is subtracted (amount bank kept aside)\n",
    "\n"
   ]
  },
  {
   "cell_type": "code",
   "execution_count": 7,
   "id": "d3046a19-78b5-4eff-9723-96fe02dd2315",
   "metadata": {},
   "outputs": [],
   "source": [
    "#read in the data \n",
    "cust_df = pd.read_excel('case_study2.xlsx') #this is internal bank dataset"
   ]
  },
  {
   "cell_type": "code",
   "execution_count": 8,
   "id": "7bdf8e3c-0ad7-4e81-bd97-43a01f853667",
   "metadata": {},
   "outputs": [
    {
     "name": "stdout",
     "output_type": "stream",
     "text": [
      "<class 'pandas.core.frame.DataFrame'>\n",
      "RangeIndex: 51336 entries, 0 to 51335\n",
      "Data columns (total 62 columns):\n",
      " #   Column                        Non-Null Count  Dtype  \n",
      "---  ------                        --------------  -----  \n",
      " 0   PROSPECTID                    51336 non-null  int64  \n",
      " 1   time_since_recent_payment     51336 non-null  int64  \n",
      " 2   time_since_first_deliquency   51336 non-null  int64  \n",
      " 3   time_since_recent_deliquency  51336 non-null  int64  \n",
      " 4   num_times_delinquent          51336 non-null  int64  \n",
      " 5   max_delinquency_level         51336 non-null  int64  \n",
      " 6   max_recent_level_of_deliq     51336 non-null  int64  \n",
      " 7   num_deliq_6mts                51336 non-null  int64  \n",
      " 8   num_deliq_12mts               51336 non-null  int64  \n",
      " 9   num_deliq_6_12mts             51336 non-null  int64  \n",
      " 10  max_deliq_6mts                51336 non-null  int64  \n",
      " 11  max_deliq_12mts               51336 non-null  int64  \n",
      " 12  num_times_30p_dpd             51336 non-null  int64  \n",
      " 13  num_times_60p_dpd             51336 non-null  int64  \n",
      " 14  num_std                       51336 non-null  int64  \n",
      " 15  num_std_6mts                  51336 non-null  int64  \n",
      " 16  num_std_12mts                 51336 non-null  int64  \n",
      " 17  num_sub                       51336 non-null  int64  \n",
      " 18  num_sub_6mts                  51336 non-null  int64  \n",
      " 19  num_sub_12mts                 51336 non-null  int64  \n",
      " 20  num_dbt                       51336 non-null  int64  \n",
      " 21  num_dbt_6mts                  51336 non-null  int64  \n",
      " 22  num_dbt_12mts                 51336 non-null  int64  \n",
      " 23  num_lss                       51336 non-null  int64  \n",
      " 24  num_lss_6mts                  51336 non-null  int64  \n",
      " 25  num_lss_12mts                 51336 non-null  int64  \n",
      " 26  recent_level_of_deliq         51336 non-null  int64  \n",
      " 27  tot_enq                       51336 non-null  int64  \n",
      " 28  CC_enq                        51336 non-null  int64  \n",
      " 29  CC_enq_L6m                    51336 non-null  int64  \n",
      " 30  CC_enq_L12m                   51336 non-null  int64  \n",
      " 31  PL_enq                        51336 non-null  int64  \n",
      " 32  PL_enq_L6m                    51336 non-null  int64  \n",
      " 33  PL_enq_L12m                   51336 non-null  int64  \n",
      " 34  time_since_recent_enq         51336 non-null  int64  \n",
      " 35  enq_L12m                      51336 non-null  int64  \n",
      " 36  enq_L6m                       51336 non-null  int64  \n",
      " 37  enq_L3m                       51336 non-null  int64  \n",
      " 38  MARITALSTATUS                 51336 non-null  object \n",
      " 39  EDUCATION                     51336 non-null  object \n",
      " 40  AGE                           51336 non-null  int64  \n",
      " 41  GENDER                        51336 non-null  object \n",
      " 42  NETMONTHLYINCOME              51336 non-null  int64  \n",
      " 43  Time_With_Curr_Empr           51336 non-null  int64  \n",
      " 44  pct_of_active_TLs_ever        51336 non-null  float64\n",
      " 45  pct_opened_TLs_L6m_of_L12m    51336 non-null  float64\n",
      " 46  pct_currentBal_all_TL         51336 non-null  float64\n",
      " 47  CC_utilization                51336 non-null  float64\n",
      " 48  CC_Flag                       51336 non-null  int64  \n",
      " 49  PL_utilization                51336 non-null  float64\n",
      " 50  PL_Flag                       51336 non-null  int64  \n",
      " 51  pct_PL_enq_L6m_of_L12m        51336 non-null  float64\n",
      " 52  pct_CC_enq_L6m_of_L12m        51336 non-null  float64\n",
      " 53  pct_PL_enq_L6m_of_ever        51336 non-null  float64\n",
      " 54  pct_CC_enq_L6m_of_ever        51336 non-null  float64\n",
      " 55  max_unsec_exposure_inPct      51336 non-null  float64\n",
      " 56  HL_Flag                       51336 non-null  int64  \n",
      " 57  GL_Flag                       51336 non-null  int64  \n",
      " 58  last_prod_enq2                51336 non-null  object \n",
      " 59  first_prod_enq2               51336 non-null  object \n",
      " 60  Credit_Score                  51336 non-null  int64  \n",
      " 61  Approved_Flag                 51336 non-null  object \n",
      "dtypes: float64(10), int64(46), object(6)\n",
      "memory usage: 24.3+ MB\n"
     ]
    }
   ],
   "source": [
    "cust_df.info()"
   ]
  },
  {
   "cell_type": "markdown",
   "id": "d1759ffa-d024-4d7d-b737-b998ea5fb74f",
   "metadata": {},
   "source": [
    "\n",
    "**Approved_flag** is the target  \n",
    "- **P** are priority levels: P1 > P2 > P3 > P4\n",
    "- 350-900 credit score by **CIBIL**\n",
    "- Loan is also called a **trade line**  \n",
    "- **Secured loans** are given using collateral\n",
    "\n",
    "### Key Terms:\n",
    "- **Total_TL**: Total trade lines/accounts in Bureau.\n",
    "- **Tot_Closed_TL**: Total closed trade lines/accounts.\n",
    "- **Tot_Active_TL**: Total active accounts.\n",
    "- **Total_TL_opened_L6M**: Total accounts opened in the last 6 months.\n",
    "- **Tot_TL_closed_L6M**: Total accounts closed in the last 6 months.\n",
    "- **pct_tl_open_L6M**: Percent accounts opened in the last 6 months.\n",
    "- **pct_tl_closed_L6M**: Percent accounts closed in the last 6 months.\n",
    "- **pct_active_tl**: Percent active accounts.\n",
    "- **pct_closed_tl**: Percent closed accounts.\n",
    "- **Total_TL_opened_L12M**: Total accounts opened in the last 12 months.\n",
    "- **Tot_TL_closed_L12M**: Total accounts closed in the last 12 months.\n",
    "- **pct_tl_open_L12M**: Percent accounts opened in the last 12 months.\n",
    "- **pct_tl_closed_L12M**: Percent accounts closed in the last 12 months.\n",
    "- **Tot_Missed_Pmnt**: Total missed payments.\n",
    "- **Auto_TL**: Count of automobile accounts.\n",
    "- **CC_TL**: Count of credit card accounts.\n",
    "- **Consumer_TL**: Count of consumer goods accounts.\n",
    "- **Gold_TL**: Count of gold loan accounts.\n",
    "- **Home_TL**: Count of housing loan accounts.\n",
    "- **PL_TL**: Count of personal loan accounts.\n",
    "- **Secured_TL**: Count of secured accounts.\n",
    "- **Unsecured_TL**: Count of unsecured accounts.\n",
    "- **Other_TL**: Count of other accounts.\n",
    "- **Age_Oldest_TL**: Age of the oldest opened account.\n",
    "- **Age_Newest_TL**: Age of the newest opened account.\n"
   ]
  },
  {
   "cell_type": "code",
   "execution_count": 10,
   "id": "bc6d53ee-e56a-4f60-98d6-62187a333dad",
   "metadata": {},
   "outputs": [
    {
     "name": "stdout",
     "output_type": "stream",
     "text": [
      "<class 'pandas.core.frame.DataFrame'>\n",
      "RangeIndex: 51336 entries, 0 to 51335\n",
      "Data columns (total 26 columns):\n",
      " #   Column                Non-Null Count  Dtype  \n",
      "---  ------                --------------  -----  \n",
      " 0   PROSPECTID            51336 non-null  int64  \n",
      " 1   Total_TL              51336 non-null  int64  \n",
      " 2   Tot_Closed_TL         51336 non-null  int64  \n",
      " 3   Tot_Active_TL         51336 non-null  int64  \n",
      " 4   Total_TL_opened_L6M   51336 non-null  int64  \n",
      " 5   Tot_TL_closed_L6M     51336 non-null  int64  \n",
      " 6   pct_tl_open_L6M       51336 non-null  float64\n",
      " 7   pct_tl_closed_L6M     51336 non-null  float64\n",
      " 8   pct_active_tl         51336 non-null  float64\n",
      " 9   pct_closed_tl         51336 non-null  float64\n",
      " 10  Total_TL_opened_L12M  51336 non-null  int64  \n",
      " 11  Tot_TL_closed_L12M    51336 non-null  int64  \n",
      " 12  pct_tl_open_L12M      51336 non-null  float64\n",
      " 13  pct_tl_closed_L12M    51336 non-null  float64\n",
      " 14  Tot_Missed_Pmnt       51336 non-null  int64  \n",
      " 15  Auto_TL               51336 non-null  int64  \n",
      " 16  CC_TL                 51336 non-null  int64  \n",
      " 17  Consumer_TL           51336 non-null  int64  \n",
      " 18  Gold_TL               51336 non-null  int64  \n",
      " 19  Home_TL               51336 non-null  int64  \n",
      " 20  PL_TL                 51336 non-null  int64  \n",
      " 21  Secured_TL            51336 non-null  int64  \n",
      " 22  Unsecured_TL          51336 non-null  int64  \n",
      " 23  Other_TL              51336 non-null  int64  \n",
      " 24  Age_Oldest_TL         51336 non-null  int64  \n",
      " 25  Age_Newest_TL         51336 non-null  int64  \n",
      "dtypes: float64(6), int64(20)\n",
      "memory usage: 10.2 MB\n"
     ]
    }
   ],
   "source": [
    "bur_df = pd.read_excel('case_study1.xlsx') #cibil external dataset\n",
    "bur_df.info()"
   ]
  },
  {
   "cell_type": "markdown",
   "id": "43f0af70-9667-4b6f-be36-ae074795c2c1",
   "metadata": {
    "jp-MarkdownHeadingCollapsed": true
   },
   "source": [
    "\n",
    "### Cibil:\n",
    "- time_since_recent_payment: Time since recent Payment made.\n",
    "\n",
    "### External:\n",
    "- time_since_first_delinquency: Time since first Delinquency (missed payment).\n",
    "- time_since_recent_delinquency: Time Since recent Delinquency.\n",
    "- num_times_delinquent: Number of times delinquent.\n",
    "- max_delinquency_level: Maximum delinquency level.\n",
    "- max_recent_level_of_delinq: Maximum recent level of delinquency.\n",
    "- num_deliq_6mts: Number of times delinquent in the last 6 months.\n",
    "- num_deliq_12mts: Number of times delinquent in the last 12 months.\n",
    "- num_deliq_6_12mts: Number of times delinquent between last 6 months and last 12 months.\n",
    "- max_deliq_6mts: Maximum delinquency level in the last 6 months.\n",
    "- max_deliq_12mts: Maximum delinquency level in the last 12 months.\n",
    "- num_times_30p_dpd: Number of times 30+ dpd.\n",
    "- num_times_60p_dpd: Number of times 60+ dpd.\n",
    "- num_std: Number of standard Payments.\n",
    "- num_std_6mts: Number of standard Payments in the last 6 months.\n",
    "- num_std_12mts: Number of standard Payments in the last 12 months.\n",
    "- num_sub: Number of substandard payments - not making full payments.\n",
    "- num_sub_6mts: Number of substandard payments in the last 6 months.\n",
    "- num_sub_12mts: Number of substandard payments in the last 12 months.\n",
    "- num_dbt: Number of doubtful payments.\n",
    "- num_dbt_6mts: Number of doubtful payments in the last 6 months.\n",
    "- num_dbt_12mts: Number of doubtful payments in the last 12 months.\n",
    "- num_lss: Number of loss accounts.\n",
    "- num_lss_6mts: Number of loss accounts in the last 6 months.\n",
    "- num_lss_12mts: Number of loss accounts in the last 12 months.\n",
    "- recent_level_of_delinq: Recent level of delinquency.\n",
    "- tot_enq: Total enquiries.\n",
    "- CC_enq: Credit card enquiries.\n",
    "- CC_enq_L6m: Credit card enquiries in the last 6 months.\n",
    "- CC_enq_L12m: Credit card enquiries in the last 12 months.\n",
    "- PL_enq: Personal Loan enquiries.\n",
    "- PL_enq_L6m: Personal Loan enquiries in the last 6 months.\n",
    "- PL_enq_L12m: Personal Loan enquiries in the last 12 months.\n",
    "- time_since_recent_enq: Time since recent enquiry.\n",
    "- enq_L12m: Enquiries in the last 12 months.\n",
    "- enq_L6m: Enquiries in the last 6 months.\n",
    "- enq_L3m: Enquiries in the last 3 months.\n",
    "- MARITALSTATUS: Marital Status.\n",
    "- EDUCATION: Education level.\n",
    "- AGE: Age.\n",
    "- GENDER: Gender.\n",
    "- NETMONTHLYINCOME: Net monthly income.\n",
    "- Time_With_Curr_Empr: Time with the current Employer.\n",
    "- pct_of_active_TLs_ever: Percent active accounts ever.\n",
    "- pct_opened_TLs_L6m_of_L12m: Percent accounts opened in the last 6 months to last 12 months.\n",
    "- pct_currentBal_all_TL: Percent current balance of all accounts.\n",
    "- CC_utilization: Credit card utilization.\n",
    "- CC_Flag: Credit card Flag.\n",
    "- PL_utilization: Personal Loan utilization.\n",
    "- PL_Flag: Personal Loan Flag.\n",
    "- pct_PL_enq_L6m_of_L12m: Percent enquiries PL in the last 6 months to last 12 months.\n",
    "- pct_CC_enq_L6m_of_L12m: Percent enquiries CC in the last 6 months to last 12 months.\n",
    "- pct_PL_enq_L6m_of_ever: Percent enquiries PL in the last 6 months to ever.\n",
    "- pct_CC_enq_L6m_of_ever: Percent enquiries CC in the last 6 months to ever.\n",
    "- max_unsec_exposure_inPct: Maximum unsecured exposure in percent.\n",
    "- HL_Flag: Housing Loan Flag.\n",
    "- GL_Flag: Gold Loan Flag.\n",
    "- last_prod_enq2: Latest product enquired for.\n",
    "- first_prod_enq2: First product enquired for.\n",
    "- Credit_Score: Applicant's credit score.\n",
    "- Approved_Flag: Priority levels.\n",
    "\n"
   ]
  },
  {
   "cell_type": "markdown",
   "id": "28c52138-e9a8-44a7-83ef-ff1cb7823bfa",
   "metadata": {},
   "source": [
    "## in India , less credit utilization is better, maxing out bad "
   ]
  },
  {
   "cell_type": "code",
   "execution_count": 13,
   "id": "3bbacb58-17d1-45ae-a013-506cda4b7a18",
   "metadata": {},
   "outputs": [],
   "source": [
    "#making copies \n",
    "df1 = cust_df.copy()\n",
    "df2 = bur_df.copy()"
   ]
  },
  {
   "cell_type": "code",
   "execution_count": 14,
   "id": "0fa9c078-6dd0-4695-8a11-831b4da29dae",
   "metadata": {},
   "outputs": [],
   "source": [
    "#looking at distribution of each coloumn , replace all -99999 with NaN\n",
    "df1.replace(-99999, np.nan, inplace=True)\n",
    "df2.replace(-99999, np.nan, inplace=True)"
   ]
  },
  {
   "cell_type": "code",
   "execution_count": 15,
   "id": "4bb2e49f-ec3c-4413-963f-13dfcf8a5825",
   "metadata": {},
   "outputs": [
    {
     "name": "stdout",
     "output_type": "stream",
     "text": [
      "<class 'pandas.core.frame.DataFrame'>\n",
      "RangeIndex: 51336 entries, 0 to 51335\n",
      "Data columns (total 62 columns):\n",
      " #   Column                        Non-Null Count  Dtype  \n",
      "---  ------                        --------------  -----  \n",
      " 0   PROSPECTID                    51336 non-null  int64  \n",
      " 1   time_since_recent_payment     47045 non-null  float64\n",
      " 2   time_since_first_deliquency   15387 non-null  float64\n",
      " 3   time_since_recent_deliquency  15387 non-null  float64\n",
      " 4   num_times_delinquent          51336 non-null  int64  \n",
      " 5   max_delinquency_level         15387 non-null  float64\n",
      " 6   max_recent_level_of_deliq     51336 non-null  int64  \n",
      " 7   num_deliq_6mts                51336 non-null  int64  \n",
      " 8   num_deliq_12mts               51336 non-null  int64  \n",
      " 9   num_deliq_6_12mts             51336 non-null  int64  \n",
      " 10  max_deliq_6mts                38446 non-null  float64\n",
      " 11  max_deliq_12mts               40504 non-null  float64\n",
      " 12  num_times_30p_dpd             51336 non-null  int64  \n",
      " 13  num_times_60p_dpd             51336 non-null  int64  \n",
      " 14  num_std                       51336 non-null  int64  \n",
      " 15  num_std_6mts                  51336 non-null  int64  \n",
      " 16  num_std_12mts                 51336 non-null  int64  \n",
      " 17  num_sub                       51336 non-null  int64  \n",
      " 18  num_sub_6mts                  51336 non-null  int64  \n",
      " 19  num_sub_12mts                 51336 non-null  int64  \n",
      " 20  num_dbt                       51336 non-null  int64  \n",
      " 21  num_dbt_6mts                  51336 non-null  int64  \n",
      " 22  num_dbt_12mts                 51336 non-null  int64  \n",
      " 23  num_lss                       51336 non-null  int64  \n",
      " 24  num_lss_6mts                  51336 non-null  int64  \n",
      " 25  num_lss_12mts                 51336 non-null  int64  \n",
      " 26  recent_level_of_deliq         51336 non-null  int64  \n",
      " 27  tot_enq                       45015 non-null  float64\n",
      " 28  CC_enq                        45015 non-null  float64\n",
      " 29  CC_enq_L6m                    45015 non-null  float64\n",
      " 30  CC_enq_L12m                   45015 non-null  float64\n",
      " 31  PL_enq                        45015 non-null  float64\n",
      " 32  PL_enq_L6m                    45015 non-null  float64\n",
      " 33  PL_enq_L12m                   45015 non-null  float64\n",
      " 34  time_since_recent_enq         45015 non-null  float64\n",
      " 35  enq_L12m                      45015 non-null  float64\n",
      " 36  enq_L6m                       45015 non-null  float64\n",
      " 37  enq_L3m                       45015 non-null  float64\n",
      " 38  MARITALSTATUS                 51336 non-null  object \n",
      " 39  EDUCATION                     51336 non-null  object \n",
      " 40  AGE                           51336 non-null  int64  \n",
      " 41  GENDER                        51336 non-null  object \n",
      " 42  NETMONTHLYINCOME              51336 non-null  int64  \n",
      " 43  Time_With_Curr_Empr           51336 non-null  int64  \n",
      " 44  pct_of_active_TLs_ever        51336 non-null  float64\n",
      " 45  pct_opened_TLs_L6m_of_L12m    51336 non-null  float64\n",
      " 46  pct_currentBal_all_TL         51264 non-null  float64\n",
      " 47  CC_utilization                3700 non-null   float64\n",
      " 48  CC_Flag                       51336 non-null  int64  \n",
      " 49  PL_utilization                6901 non-null   float64\n",
      " 50  PL_Flag                       51336 non-null  int64  \n",
      " 51  pct_PL_enq_L6m_of_L12m        51336 non-null  float64\n",
      " 52  pct_CC_enq_L6m_of_L12m        51336 non-null  float64\n",
      " 53  pct_PL_enq_L6m_of_ever        51336 non-null  float64\n",
      " 54  pct_CC_enq_L6m_of_ever        51336 non-null  float64\n",
      " 55  max_unsec_exposure_inPct      28158 non-null  float64\n",
      " 56  HL_Flag                       51336 non-null  int64  \n",
      " 57  GL_Flag                       51336 non-null  int64  \n",
      " 58  last_prod_enq2                51336 non-null  object \n",
      " 59  first_prod_enq2               51336 non-null  object \n",
      " 60  Credit_Score                  51336 non-null  int64  \n",
      " 61  Approved_Flag                 51336 non-null  object \n",
      "dtypes: float64(27), int64(29), object(6)\n",
      "memory usage: 24.3+ MB\n"
     ]
    }
   ],
   "source": [
    "df1.info()"
   ]
  },
  {
   "cell_type": "code",
   "execution_count": 16,
   "id": "347e1644-3e3d-4222-b841-aad2d7cc8677",
   "metadata": {},
   "outputs": [
    {
     "name": "stdout",
     "output_type": "stream",
     "text": [
      "<class 'pandas.core.frame.DataFrame'>\n",
      "RangeIndex: 51336 entries, 0 to 51335\n",
      "Data columns (total 26 columns):\n",
      " #   Column                Non-Null Count  Dtype  \n",
      "---  ------                --------------  -----  \n",
      " 0   PROSPECTID            51336 non-null  int64  \n",
      " 1   Total_TL              51336 non-null  int64  \n",
      " 2   Tot_Closed_TL         51336 non-null  int64  \n",
      " 3   Tot_Active_TL         51336 non-null  int64  \n",
      " 4   Total_TL_opened_L6M   51336 non-null  int64  \n",
      " 5   Tot_TL_closed_L6M     51336 non-null  int64  \n",
      " 6   pct_tl_open_L6M       51336 non-null  float64\n",
      " 7   pct_tl_closed_L6M     51336 non-null  float64\n",
      " 8   pct_active_tl         51336 non-null  float64\n",
      " 9   pct_closed_tl         51336 non-null  float64\n",
      " 10  Total_TL_opened_L12M  51336 non-null  int64  \n",
      " 11  Tot_TL_closed_L12M    51336 non-null  int64  \n",
      " 12  pct_tl_open_L12M      51336 non-null  float64\n",
      " 13  pct_tl_closed_L12M    51336 non-null  float64\n",
      " 14  Tot_Missed_Pmnt       51336 non-null  int64  \n",
      " 15  Auto_TL               51336 non-null  int64  \n",
      " 16  CC_TL                 51336 non-null  int64  \n",
      " 17  Consumer_TL           51336 non-null  int64  \n",
      " 18  Gold_TL               51336 non-null  int64  \n",
      " 19  Home_TL               51336 non-null  int64  \n",
      " 20  PL_TL                 51336 non-null  int64  \n",
      " 21  Secured_TL            51336 non-null  int64  \n",
      " 22  Unsecured_TL          51336 non-null  int64  \n",
      " 23  Other_TL              51336 non-null  int64  \n",
      " 24  Age_Oldest_TL         51296 non-null  float64\n",
      " 25  Age_Newest_TL         51296 non-null  float64\n",
      "dtypes: float64(8), int64(18)\n",
      "memory usage: 10.2 MB\n"
     ]
    }
   ],
   "source": [
    "df2.info()"
   ]
  },
  {
   "cell_type": "code",
   "execution_count": 17,
   "id": "948356b6-d7d8-4532-b204-400324d0ea19",
   "metadata": {},
   "outputs": [],
   "source": [
    "#in external dataset dropping rows with Nan values in Age_Oldest and new since there are only 40 such rows\n",
    "df2 = df2.dropna()"
   ]
  },
  {
   "cell_type": "code",
   "execution_count": 18,
   "id": "e04eab2f-2ae2-4405-a4a1-1806700d8284",
   "metadata": {},
   "outputs": [
    {
     "data": {
      "text/plain": [
       "(51296, 26)"
      ]
     },
     "execution_count": 18,
     "metadata": {},
     "output_type": "execute_result"
    }
   ],
   "source": [
    "df2.shape\n"
   ]
  },
  {
   "cell_type": "code",
   "execution_count": 19,
   "id": "fe3fc3c1-5ff3-4a50-86f3-ac856a75cb43",
   "metadata": {},
   "outputs": [],
   "source": [
    "#in df1 dropping columns wehere there are null values exceeding 75%\n",
    "threshold = 0.50* len(df1)\n",
    "columns_to_remove = df1.columns[df1.isnull().sum() > threshold].tolist()\n",
    "\n",
    "df1= df1.drop(columns=columns_to_remove)"
   ]
  },
  {
   "cell_type": "code",
   "execution_count": 20,
   "id": "9c875b62-70c3-47fa-89e2-2d257d23018d",
   "metadata": {},
   "outputs": [
    {
     "name": "stdout",
     "output_type": "stream",
     "text": [
      "time_since_recent_payment     4291\n",
      "max_deliq_6mts               12890\n",
      "max_deliq_12mts              10832\n",
      "tot_enq                       6321\n",
      "CC_enq                        6321\n",
      "CC_enq_L6m                    6321\n",
      "CC_enq_L12m                   6321\n",
      "PL_enq                        6321\n",
      "PL_enq_L6m                    6321\n",
      "PL_enq_L12m                   6321\n",
      "time_since_recent_enq         6321\n",
      "enq_L12m                      6321\n",
      "enq_L6m                       6321\n",
      "enq_L3m                       6321\n",
      "pct_currentBal_all_TL           72\n",
      "max_unsec_exposure_inPct     23178\n",
      "dtype: int64\n"
     ]
    }
   ],
   "source": [
    "null_counts = df1.isnull().sum()\n",
    "print(null_counts[null_counts > 0])\n"
   ]
  },
  {
   "cell_type": "code",
   "execution_count": 21,
   "id": "7bcb30a3-cd1a-409a-a594-5f0b318cc10a",
   "metadata": {},
   "outputs": [],
   "source": [
    "#removing rows with null values in more than 50% values\n",
    "df1 = df1[df1.isnull().sum(axis=1) <= 8]"
   ]
  },
  {
   "cell_type": "code",
   "execution_count": 22,
   "id": "9a16ef7e-b17c-42e8-a641-a75c07cc72ea",
   "metadata": {},
   "outputs": [
    {
     "data": {
      "text/plain": [
       "(45015, 57)"
      ]
     },
     "execution_count": 22,
     "metadata": {},
     "output_type": "execute_result"
    }
   ],
   "source": [
    "df1.shape"
   ]
  },
  {
   "cell_type": "code",
   "execution_count": 23,
   "id": "ab966da9-14be-4f2f-9488-bc9a7a27d3e0",
   "metadata": {},
   "outputs": [],
   "source": [
    "#merging the two datasets - \n",
    "df = pd. merge ( df1, df2, how ='inner', left_on = ['PROSPECTID'], right_on = ['PROSPECTID'] )"
   ]
  },
  {
   "cell_type": "code",
   "execution_count": 24,
   "id": "16e2c5b6-991e-4a30-882e-4d95161f5304",
   "metadata": {},
   "outputs": [
    {
     "name": "stdout",
     "output_type": "stream",
     "text": [
      "time_since_recent_payment    2891\n",
      "max_deliq_6mts               2024\n",
      "max_deliq_12mts              1261\n",
      "pct_currentBal_all_TL          41\n",
      "dtype: int64\n"
     ]
    }
   ],
   "source": [
    "\n",
    "#dropping max_unsec_exposure as well - in raw dataset it had 50% values missing and very low variability\n",
    "df.drop(columns=['max_unsec_exposure_inPct'], inplace=True)\n",
    "\n",
    "#replacing logically missing values - \n",
    "# Replace null values in max_deliq_6mts and max_deliq_12mts based on the condition\n",
    "df.loc[(df['num_times_delinquent'] == 0) & df['max_deliq_6mts'].isnull(), 'max_deliq_6mts'] = 0\n",
    "df.loc[(df['num_times_delinquent'] == 0) & df['max_deliq_12mts'].isnull(), 'max_deliq_12mts'] = 0\n",
    "\n",
    "df.shape\n",
    "null_counts = df.isnull().sum()\n",
    "print(null_counts[null_counts > 0])\n"
   ]
  },
  {
   "cell_type": "code",
   "execution_count": 25,
   "id": "de47fb0a-fafd-43cb-b355-889c1e207c94",
   "metadata": {},
   "outputs": [
    {
     "data": {
      "image/png": "[encoded data removed]",
      "text/plain": [
       "<Figure size 1000x600 with 1 Axes>"
      ]
     },
     "metadata": {},
     "output_type": "display_data"
    }
   ],
   "source": [
    "#visualizing for imputation\n",
    "df['time_since_recent_payment'].describe()\n",
    "\n",
    "plt.figure(figsize=(10, 6))\n",
    "df['time_since_recent_payment'].dropna().hist(bins=20, range=(0, 200), edgecolor='black')\n",
    "plt.title('Distribution of time_since_recent_payment Before Imputation (up to 1000)', fontsize=16)\n",
    "plt.xlabel('Time Since Recent Payment')\n",
    "plt.ylabel('Frequency')\n",
    "plt.show()"
   ]
  },
  {
   "cell_type": "code",
   "execution_count": 26,
   "id": "98ab7359-b13b-43f1-8398-88003c1a3b24",
   "metadata": {},
   "outputs": [
    {
     "data": {
      "image/png": "[encoded data removed]",
      "text/plain": [
       "<Figure size 1000x600 with 1 Axes>"
      ]
     },
     "metadata": {},
     "output_type": "display_data"
    }
   ],
   "source": [
    "df['pct_currentBal_all_TL'].describe()\n",
    "\n",
    "plt.figure(figsize=(10, 6))\n",
    "df['pct_currentBal_all_TL'].dropna().hist(bins=20, range=(0, 1), edgecolor='black')\n",
    "plt.ylabel('Frequency')\n",
    "plt.show()"
   ]
  },
  {
   "cell_type": "code",
   "execution_count": 27,
   "id": "293462ce-b3dd-4a90-a9bd-e2f7fcc6a0c0",
   "metadata": {},
   "outputs": [
    {
     "data": {
      "image/png": "[encoded data removed]",
      "text/plain": [
       "<Figure size 800x600 with 1 Axes>"
      ]
     },
     "metadata": {},
     "output_type": "display_data"
    }
   ],
   "source": [
    "df['max_deliq_6mts'].describe()\n",
    "plt.figure(figsize=(8, 6))\n",
    "sns.kdeplot(df['max_deliq_6mts'].dropna(), fill =True)\n",
    "plt.title('KDE Plot of max_deliq_6mts')\n",
    "plt.xlabel('max_deliq_6mts')\n",
    "plt.ylabel('Density')\n",
    "plt.show()\n",
    "\n"
   ]
  },
  {
   "cell_type": "code",
   "execution_count": 28,
   "id": "6f9b77d6-1cbf-4eab-bc3d-132c350845f4",
   "metadata": {},
   "outputs": [
    {
     "name": "stdout",
     "output_type": "stream",
     "text": [
      "MARITALSTATUS\n",
      "EDUCATION\n",
      "GENDER\n",
      "last_prod_enq2\n",
      "first_prod_enq2\n",
      "Approved_Flag\n"
     ]
    }
   ],
   "source": [
    "#finding categorical columns \n",
    "for i in df.columns:\n",
    "    if df[i].dtype == 'object':\n",
    "        print(i)"
   ]
  },
  {
   "cell_type": "code",
   "execution_count": 29,
   "id": "02a54401-85a4-4d71-8bd6-10350b799f80",
   "metadata": {},
   "outputs": [
    {
     "name": "stdout",
     "output_type": "stream",
     "text": [
      "MARITALSTATUS --- 1.8488675480840443e-244\n",
      "EDUCATION --- 1.4046535546725437e-31\n",
      "GENDER --- 2.246456579867408e-05\n",
      "last_prod_enq2 --- 0.0\n",
      "first_prod_enq2 --- 1.9006158203375562e-287\n"
     ]
    }
   ],
   "source": [
    "#running chisquare test for categorical columns - \n",
    "columns_to_test = ['MARITALSTATUS', 'EDUCATION', 'GENDER', 'last_prod_enq2', 'first_prod_enq2']\n",
    "\n",
    "# Perform chi-squared test for each column and the 'Approved_Flag'\n",
    "for col in columns_to_test:\n",
    "    contingency_table = pd.crosstab(df[col], df['Approved_Flag'])\n",
    "    _, p_value, _, _ = chi2_contingency(contingency_table)\n",
    "    print(f'{col} --- {p_value}')\n",
    "\n",
    "\n",
    "#all the categorical features have p value less than 0.05 and we accept all . \n"
   ]
  },
  {
   "cell_type": "code",
   "execution_count": 30,
   "id": "038e4d11-437b-4dfa-9397-dd36de7bd8d3",
   "metadata": {},
   "outputs": [],
   "source": [
    "#splitting the dataset\n",
    "X_train, X_test, y_train, y_test = train_test_split(df.drop(columns=['Approved_Flag']), df['Approved_Flag'], test_size=0.2, random_state=42)"
   ]
  },
  {
   "cell_type": "code",
   "execution_count": 31,
   "id": "dd1ef3a8-dfc5-4b81-8523-86588ab7bc84",
   "metadata": {},
   "outputs": [
    {
     "name": "stderr",
     "output_type": "stream",
     "text": [
      "/var/folders/8r/lp807dgx5l1g14nqdf2kk0_m0000gn/T/ipykernel_20096/2697995436.py:10: FutureWarning: ChainedAssignmentError: behaviour will change in pandas 3.0!\n",
      "You are setting values through chained assignment. Currently this works in certain cases, but when using Copy-on-Write (which will become the default behaviour in pandas 3.0) this will never work to update the original DataFrame or Series, because the intermediate object on which we are setting values will behave as a copy.\n",
      "A typical example is when you are setting values in a column of a DataFrame, like:\n",
      "\n",
      "df[\"col\"][row_indexer] = value\n",
      "\n",
      "Use `df.loc[row_indexer, \"col\"] = values` instead, to perform the assignment in a single step and ensure this keeps updating the original `df`.\n",
      "\n",
      "See the caveats in the documentation: https://pandas.pydata.org/pandas-docs/stable/user_guide/indexing.html#returning-a-view-versus-a-copy\n",
      "\n",
      "  X_train['time_since_recent_payment_imp'][X_train['time_since_recent_payment_imp'].isnull()] = X_train['time_since_recent_payment'].dropna().sample(X_train['time_since_recent_payment'].isnull().sum()).values\n",
      "/var/folders/8r/lp807dgx5l1g14nqdf2kk0_m0000gn/T/ipykernel_20096/2697995436.py:10: SettingWithCopyWarning: \n",
      "A value is trying to be set on a copy of a slice from a DataFrame\n",
      "\n",
      "See the caveats in the documentation: https://pandas.pydata.org/pandas-docs/stable/user_guide/indexing.html#returning-a-view-versus-a-copy\n",
      "  X_train['time_since_recent_payment_imp'][X_train['time_since_recent_payment_imp'].isnull()] = X_train['time_since_recent_payment'].dropna().sample(X_train['time_since_recent_payment'].isnull().sum()).values\n",
      "/var/folders/8r/lp807dgx5l1g14nqdf2kk0_m0000gn/T/ipykernel_20096/2697995436.py:11: FutureWarning: ChainedAssignmentError: behaviour will change in pandas 3.0!\n",
      "You are setting values through chained assignment. Currently this works in certain cases, but when using Copy-on-Write (which will become the default behaviour in pandas 3.0) this will never work to update the original DataFrame or Series, because the intermediate object on which we are setting values will behave as a copy.\n",
      "A typical example is when you are setting values in a column of a DataFrame, like:\n",
      "\n",
      "df[\"col\"][row_indexer] = value\n",
      "\n",
      "Use `df.loc[row_indexer, \"col\"] = values` instead, to perform the assignment in a single step and ensure this keeps updating the original `df`.\n",
      "\n",
      "See the caveats in the documentation: https://pandas.pydata.org/pandas-docs/stable/user_guide/indexing.html#returning-a-view-versus-a-copy\n",
      "\n",
      "  X_test['time_since_recent_payment_imp'][X_test['time_since_recent_payment_imp'].isnull()] = X_train['time_since_recent_payment'].dropna().sample(X_test['time_since_recent_payment'].isnull().sum()).values\n",
      "/var/folders/8r/lp807dgx5l1g14nqdf2kk0_m0000gn/T/ipykernel_20096/2697995436.py:11: SettingWithCopyWarning: \n",
      "A value is trying to be set on a copy of a slice from a DataFrame\n",
      "\n",
      "See the caveats in the documentation: https://pandas.pydata.org/pandas-docs/stable/user_guide/indexing.html#returning-a-view-versus-a-copy\n",
      "  X_test['time_since_recent_payment_imp'][X_test['time_since_recent_payment_imp'].isnull()] = X_train['time_since_recent_payment'].dropna().sample(X_test['time_since_recent_payment'].isnull().sum()).values\n"
     ]
    }
   ],
   "source": [
    "#imputing missing values \n",
    "#mode imputation for pct_current_Bal\n",
    "mode_value = X_train['pct_currentBal_all_TL'].mode()[0]\n",
    "X_train.loc[:, 'pct_currentBal_all_TL'] = X_train['pct_currentBal_all_TL'].fillna(mode_value)\n",
    "X_test.loc[:, 'pct_currentBal_all_TL'] = X_test['pct_currentBal_all_TL'].fillna(mode_value)\n",
    "\n",
    "#random imputation for time_since_recent_payment\n",
    "X_train['time_since_recent_payment_imp'] = X_train['time_since_recent_payment']\n",
    "X_test['time_since_recent_payment_imp'] = X_test['time_since_recent_payment']\n",
    "X_train['time_since_recent_payment_imp'][X_train['time_since_recent_payment_imp'].isnull()] = X_train['time_since_recent_payment'].dropna().sample(X_train['time_since_recent_payment'].isnull().sum()).values\n",
    "X_test['time_since_recent_payment_imp'][X_test['time_since_recent_payment_imp'].isnull()] = X_train['time_since_recent_payment'].dropna().sample(X_test['time_since_recent_payment'].isnull().sum()).values\n",
    "\n",
    "X_train.drop(columns=['time_since_recent_payment'], inplace=True)\n",
    "X_test.drop(columns=['time_since_recent_payment'], inplace=True)\n",
    "X_train.rename(columns={'time_since_recent_payment_imp': 'time_since_recent_payment'}, inplace=True)\n",
    "X_test.rename(columns={'time_since_recent_payment_imp': 'time_since_recent_payment'}, inplace=True)\n",
    "\n",
    "\n",
    "num_cols = [col for col in df.columns if df[col].dtype != 'object' and col not in ['PROSPECTID', 'Approved_Flag']]\n",
    "#iterative imputation max_deliq_6mts and max_deliq_12_mts\n",
    "imputer = IterativeImputer(random_state=42)\n",
    "X_train[num_cols] = imputer.fit_transform(X_train[num_cols])\n",
    "X_test[num_cols] = imputer.transform(X_test[num_cols])\n"
   ]
  },
  {
   "cell_type": "code",
   "execution_count": 32,
   "id": "936006d6-4144-40d1-9a7a-87e88ad066da",
   "metadata": {},
   "outputs": [
    {
     "name": "stdout",
     "output_type": "stream",
     "text": [
      "0\n",
      "0\n"
     ]
    }
   ],
   "source": [
    "print(X_train.isna().sum().sum())\n",
    "print(X_test.isna().sum().sum())"
   ]
  },
  {
   "cell_type": "code",
   "execution_count": 33,
   "id": "0f976c37-daf1-4e42-83bd-98a222e69e40",
   "metadata": {
    "scrolled": true
   },
   "outputs": [
    {
     "name": "stdout",
     "output_type": "stream",
     "text": [
      "0 --- 2.1436545932702122\n",
      "1 --- 7.7551291331125\n",
      "1 --- 5.362578102304726\n",
      "1 --- inf\n"
     ]
    },
    {
     "name": "stderr",
     "output_type": "stream",
     "text": [
      "/opt/anaconda3/lib/python3.12/site-packages/statsmodels/stats/outliers_influence.py:197: RuntimeWarning: divide by zero encountered in scalar divide\n",
      "  vif = 1. / (1. - r_squared_i)\n"
     ]
    },
    {
     "name": "stdout",
     "output_type": "stream",
     "text": [
      "1 --- 8.446372976482998\n",
      "1 --- 1.6566415774672962\n",
      "2 --- 3.4423320665219963\n",
      "3 --- 4.906884580277032\n",
      "4 --- 7.892057011052673\n",
      "4 --- 1.5573933036286873\n",
      "5 --- 6.309958361863844\n",
      "5 --- 13.897352545084637\n",
      "5 --- 2.2565381359673027\n",
      "6 --- 1.4391672963288231\n",
      "7 --- 2.204726412794737\n",
      "8 --- 2.6318853534916045\n",
      "9 --- 2.0103547516757154\n",
      "10 --- 7.839525618568826\n",
      "10 --- 1.9445047075855277\n",
      "11 --- 3.1307117797572723\n",
      "12 --- 7.015059260475941\n",
      "12 --- 3.112887214883783\n",
      "13 --- 1.9454355545863535\n",
      "14 --- 11.814734244340176\n",
      "14 --- 6.017194415289826\n",
      "14 --- 8.54023514613228\n",
      "14 --- 2.263613888145971\n",
      "15 --- 7.019388140517744\n",
      "15 --- 11.401417270888897\n",
      "15 --- 3.0564250059352744\n",
      "16 --- 1.5784171558599474\n",
      "17 --- 12.872218127612069\n",
      "17 --- 7.945534596926422\n",
      "17 --- 3.1666235844363833\n",
      "18 --- 1.4114340227101356\n",
      "19 --- 1.04666192486203\n",
      "20 --- 1.2676232945105024\n",
      "21 --- inf\n"
     ]
    },
    {
     "name": "stderr",
     "output_type": "stream",
     "text": [
      "/opt/anaconda3/lib/python3.12/site-packages/statsmodels/stats/outliers_influence.py:197: RuntimeWarning: divide by zero encountered in scalar divide\n",
      "  vif = 1. / (1. - r_squared_i)\n"
     ]
    },
    {
     "name": "stdout",
     "output_type": "stream",
     "text": [
      "21 --- 5.345610970359231\n",
      "21 --- 1.0021078422280842\n",
      "22 --- 2.7279887752513816\n",
      "23 --- 2.284069433681566\n",
      "24 --- 16.18626601227866\n",
      "24 --- 15.195300089675243\n",
      "24 --- 1.5512535166212074\n",
      "25 --- 1.4518269686136687\n",
      "26 --- 1.7740455490491693\n",
      "27 --- 4.290506732983012\n",
      "28 --- 5.631356378671969\n",
      "28 --- inf\n"
     ]
    },
    {
     "name": "stderr",
     "output_type": "stream",
     "text": [
      "/opt/anaconda3/lib/python3.12/site-packages/statsmodels/stats/outliers_influence.py:197: RuntimeWarning: divide by zero encountered in scalar divide\n",
      "  vif = 1. / (1. - r_squared_i)\n",
      "/opt/anaconda3/lib/python3.12/site-packages/statsmodels/stats/outliers_influence.py:197: RuntimeWarning: divide by zero encountered in scalar divide\n",
      "  vif = 1. / (1. - r_squared_i)\n"
     ]
    },
    {
     "name": "stdout",
     "output_type": "stream",
     "text": [
      "28 --- inf\n",
      "28 --- 10.92421122977664\n",
      "28 --- 6.762847052556236\n",
      "28 --- 6.47893991366947\n",
      "28 --- 1.7559810646265002\n",
      "29 --- 2.6017386986497457\n",
      "30 --- 13.876041722719323\n",
      "30 --- 6.824361490277871\n",
      "30 --- 7.164620897145253\n",
      "30 --- 3.7009284949303245\n",
      "31 --- 3.944218715748575\n",
      "32 --- 4.217783974019849\n",
      "33 --- 1.946010603207944\n",
      "34 --- inf\n"
     ]
    },
    {
     "name": "stderr",
     "output_type": "stream",
     "text": [
      "/opt/anaconda3/lib/python3.12/site-packages/statsmodels/stats/outliers_influence.py:197: RuntimeWarning: divide by zero encountered in scalar divide\n",
      "  vif = 1. / (1. - r_squared_i)\n"
     ]
    },
    {
     "name": "stdout",
     "output_type": "stream",
     "text": [
      "34 --- 3.722647806535459\n",
      "35 --- 21.79370998628337\n",
      "35 --- 22.295717301710347\n",
      "35 --- 4.554377528430795\n",
      "36 --- 2.706412946399727\n",
      "37 --- 2.601736132297802\n",
      "38 --- 3.6800088814256746\n",
      "39 --- 2.0630825695222557\n",
      "40 --- 4.360245677253152\n",
      "41 --- 3.879969212364184\n",
      "Final set of numeric columns: ['time_since_recent_payment', 'num_deliq_6_12mts', 'max_deliq_6mts', 'max_deliq_12mts', 'num_times_60p_dpd', 'num_std_12mts', 'num_sub', 'num_sub_6mts', 'num_sub_12mts', 'num_dbt', 'num_dbt_12mts', 'num_lss', 'num_lss_12mts', 'recent_level_of_deliq', 'CC_enq_L12m', 'PL_enq_L12m', 'time_since_recent_enq', 'enq_L3m', 'AGE', 'NETMONTHLYINCOME', 'Time_With_Curr_Empr', 'pct_currentBal_all_TL', 'CC_Flag', 'PL_Flag', 'pct_PL_enq_L6m_of_ever', 'pct_CC_enq_L6m_of_ever', 'HL_Flag', 'GL_Flag', 'pct_tl_open_L6M', 'pct_tl_closed_L6M', 'Tot_TL_closed_L12M', 'pct_tl_open_L12M', 'pct_tl_closed_L12M', 'Tot_Missed_Pmnt', 'CC_TL', 'Home_TL', 'PL_TL', 'Secured_TL', 'Unsecured_TL', 'Other_TL', 'Age_Oldest_TL', 'Age_Newest_TL']\n"
     ]
    }
   ],
   "source": [
    "#using vif on numerical columns for feature selection\n",
    "\n",
    "\n",
    "vif_subset = X_train[num_cols]\n",
    "remaining_columns = []\n",
    "column_index = 0\n",
    "for i in range (0,vif_subset.shape[1]):\n",
    "\n",
    "    vif_value = variance_inflation_factor(vif_subset, column_index)\n",
    "    print (column_index,'---',vif_value)\n",
    "\n",
    "\n",
    "    if vif_value <= 5:\n",
    "        remaining_columns.append(num_cols[i])\n",
    "        column_index = column_index+1\n",
    "\n",
    "    else:\n",
    "        vif_subset = vif_subset.drop([ num_cols[i] ] , axis=1)\n",
    "\n",
    "print(\"Final set of numeric columns:\", remaining_columns)\n"
   ]
  },
  {
   "cell_type": "code",
   "execution_count": 34,
   "id": "3e9b83c2-8867-4b66-b99b-25f867c791c5",
   "metadata": {},
   "outputs": [
    {
     "name": "stdout",
     "output_type": "stream",
     "text": [
      "Significant Features: ['time_since_recent_payment', 'num_deliq_6_12mts', 'max_deliq_6mts', 'max_deliq_12mts', 'num_times_60p_dpd', 'num_std_12mts', 'num_sub', 'num_sub_6mts', 'num_sub_12mts', 'num_dbt', 'num_lss', 'recent_level_of_deliq', 'CC_enq_L12m', 'PL_enq_L12m', 'time_since_recent_enq', 'enq_L3m', 'AGE', 'NETMONTHLYINCOME', 'Time_With_Curr_Empr', 'CC_Flag', 'PL_Flag', 'pct_PL_enq_L6m_of_ever', 'pct_CC_enq_L6m_of_ever', 'HL_Flag', 'GL_Flag', 'pct_tl_open_L6M', 'pct_tl_closed_L6M', 'Tot_TL_closed_L12M', 'pct_tl_open_L12M', 'pct_tl_closed_L12M', 'Tot_Missed_Pmnt', 'CC_TL', 'Home_TL', 'PL_TL', 'Secured_TL', 'Unsecured_TL', 'Other_TL', 'Age_Oldest_TL', 'Age_Newest_TL']\n"
     ]
    },
    {
     "data": {
      "text/plain": [
       "39"
      ]
     },
     "execution_count": 34,
     "metadata": {},
     "output_type": "execute_result"
    }
   ],
   "source": [
    "# now checking for anova values to see which columns to keep - since output column is categorical and input column are continuous\n",
    "from sklearn.feature_selection import f_classif\n",
    "\n",
    "f_values, p_values = f_classif(vif_subset, y_train)\n",
    "\n",
    "anova_results = pd.DataFrame({\n",
    "    'Feature': vif_subset.columns,  \n",
    "    'F-Value': f_values, \n",
    "    'P-Value': p_values\n",
    "})\n",
    "\n",
    "# Filter features based on a p-value threshold \n",
    "significant_features = anova_results[anova_results['P-Value'] < 0.05]\n",
    "features_to_keep = significant_features['Feature'].tolist()\n",
    "\n",
    "print(\"Significant Features:\", features_to_keep)\n",
    "len(features_to_keep)"
   ]
  },
  {
   "cell_type": "code",
   "execution_count": 35,
   "id": "17098ead-fd14-448e-865d-aa812bdcf67b",
   "metadata": {},
   "outputs": [
    {
     "name": "stdout",
     "output_type": "stream",
     "text": [
      "(35992, 44)\n",
      "(8998, 44)\n"
     ]
    }
   ],
   "source": [
    "cat_cols = ['MARITALSTATUS', 'EDUCATION', 'GENDER', 'last_prod_enq2', 'first_prod_enq2']\n",
    "final_columns_to_keep = features_to_keep + cat_cols\n",
    "\n",
    "# Subset X_train and X_test with the selected columns\n",
    "X_train = X_train[final_columns_to_keep]\n",
    "X_test = X_test[final_columns_to_keep]\n",
    "\n",
    "print(X_train.shape)\n",
    "print(X_test.shape)"
   ]
  },
  {
   "cell_type": "code",
   "execution_count": 36,
   "id": "c839a6bc-3592-4d2e-a045-0c01e43f0965",
   "metadata": {},
   "outputs": [
    {
     "name": "stderr",
     "output_type": "stream",
     "text": [
      "/var/folders/8r/lp807dgx5l1g14nqdf2kk0_m0000gn/T/ipykernel_20096/3709345149.py:3: FutureWarning: Downcasting behavior in `replace` is deprecated and will be removed in a future version. To retain the old behavior, explicitly call `result.infer_objects(copy=False)`. To opt-in to the future behavior, set `pd.set_option('future.no_silent_downcasting', True)`\n",
      "  X_train['EDUCATION'] = X_train['EDUCATION'].replace({\n",
      "/var/folders/8r/lp807dgx5l1g14nqdf2kk0_m0000gn/T/ipykernel_20096/3709345149.py:13: FutureWarning: Downcasting behavior in `replace` is deprecated and will be removed in a future version. To retain the old behavior, explicitly call `result.infer_objects(copy=False)`. To opt-in to the future behavior, set `pd.set_option('future.no_silent_downcasting', True)`\n",
      "  X_test['EDUCATION'] = X_test['EDUCATION'].replace({\n"
     ]
    }
   ],
   "source": [
    "#label encoding education\n",
    "\n",
    "X_train['EDUCATION'] = X_train['EDUCATION'].replace({\n",
    "    'SSC': 1,\n",
    "    '12TH': 2,\n",
    "    'GRADUATE': 3,\n",
    "    'UNDER GRADUATE': 3,\n",
    "    'POST-GRADUATE': 4,\n",
    "    'OTHERS': 1,\n",
    "    'PROFESSIONAL': 3\n",
    "})\n",
    "\n",
    "X_test['EDUCATION'] = X_test['EDUCATION'].replace({\n",
    "    'SSC': 1,\n",
    "    '12TH': 2,\n",
    "    'GRADUATE': 3,\n",
    "    'UNDER GRADUATE': 3,\n",
    "    'POST-GRADUATE': 4,\n",
    "    'OTHERS': 1,\n",
    "    'PROFESSIONAL': 3\n",
    "})"
   ]
  },
  {
   "cell_type": "code",
   "execution_count": 37,
   "id": "7667667f-41a9-44f1-9463-8082f2d593c1",
   "metadata": {},
   "outputs": [],
   "source": [
    "#one hot encoding categorical features\n",
    "X_train = pd.get_dummies(X_train, columns=['MARITALSTATUS', 'GENDER', 'last_prod_enq2', 'first_prod_enq2'], drop_first=True)\n",
    "X_test = pd.get_dummies(X_test, columns=['MARITALSTATUS', 'GENDER', 'last_prod_enq2', 'first_prod_enq2'], drop_first=True)"
   ]
  },
  {
   "cell_type": "code",
   "execution_count": 38,
   "id": "d6631598-aa5a-485a-8155-80f8b4f53141",
   "metadata": {},
   "outputs": [],
   "source": [
    "#standard scaling \n",
    "scaler = StandardScaler()\n",
    "X_train = scaler.fit_transform(X_train)\n",
    "X_test = scaler.transform(X_test)\n"
   ]
  },
  {
   "cell_type": "code",
   "execution_count": 39,
   "id": "8fb6bab5-b99e-4590-a4fc-89d6256643fa",
   "metadata": {},
   "outputs": [],
   "source": [
    "#Label Encode dependent variable\n",
    "label_encoder = LabelEncoder()\n",
    "y_train = label_encoder.fit_transform(y_train)\n",
    "y_test = label_encoder.transform(y_test)"
   ]
  },
  {
   "cell_type": "code",
   "execution_count": 40,
   "id": "6fc69b3e-0fa6-44e0-a181-501184ed8db0",
   "metadata": {},
   "outputs": [
    {
     "name": "stdout",
     "output_type": "stream",
     "text": [
      "Logistic Regression Accuracy: 0.7540564569904423\n",
      "\n",
      "Decision Tree Accuracy: 0.7142698377417204\n",
      "\n",
      "Random Forest Accuracy: 0.769059791064681\n",
      "\n",
      "XGBoost Accuracy: 0.7780617915092243\n",
      "\n",
      "\n",
      "Results for Logistic Regression:\n",
      "Class p1:\n",
      "Precision: 0.8337182448036952\n",
      "Recall: 0.7169811320754716\n",
      "F1 Score: 0.7709556860651361\n",
      "\n",
      "Class p2:\n",
      "Precision: 0.773400519163231\n",
      "Recall: 0.9410999628390933\n",
      "F1 Score: 0.8490486966725337\n",
      "\n",
      "Class p3:\n",
      "Precision: 0.41317365269461076\n",
      "Recall: 0.148068669527897\n",
      "F1 Score: 0.21800947867298578\n",
      "\n",
      "Class p4:\n",
      "Precision: 0.7310536044362292\n",
      "Recall: 0.653179190751445\n",
      "F1 Score: 0.6899258613170519\n",
      "\n",
      "\n",
      "Results for Decision Tree:\n",
      "Class p1:\n",
      "Precision: 0.7325933400605449\n",
      "Recall: 0.7209533267130089\n",
      "F1 Score: 0.7267267267267268\n",
      "\n",
      "Class p2:\n",
      "Precision: 0.815755329008341\n",
      "Recall: 0.8177257525083612\n",
      "F1 Score: 0.8167393523243945\n",
      "\n",
      "Class p3:\n",
      "Precision: 0.34665747760165405\n",
      "Recall: 0.3597997138769671\n",
      "F1 Score: 0.35310635310635313\n",
      "\n",
      "Class p4:\n",
      "Precision: 0.6864771748492678\n",
      "Recall: 0.6581337737407101\n",
      "F1 Score: 0.6720067453625632\n",
      "\n",
      "\n",
      "Results for Random Forest:\n",
      "Class p1:\n",
      "Precision: 0.8208616780045351\n",
      "Recall: 0.7189672293942403\n",
      "F1 Score: 0.7665431445209105\n",
      "\n",
      "Class p2:\n",
      "Precision: 0.7998082760824413\n",
      "Recall: 0.9301374953548867\n",
      "F1 Score: 0.8600635684219569\n",
      "\n",
      "Class p3:\n",
      "Precision: 0.42933333333333334\n",
      "Recall: 0.23032904148783978\n",
      "F1 Score: 0.29981378026070765\n",
      "\n",
      "Class p4:\n",
      "Precision: 0.7841011743450768\n",
      "Recall: 0.7167630057803468\n",
      "F1 Score: 0.7489214840379638\n",
      "\n",
      "\n",
      "Results for XGBoost:\n",
      "Class p1:\n",
      "Precision: 0.8196891191709844\n",
      "Recall: 0.785501489572989\n",
      "F1 Score: 0.8022312373225152\n",
      "\n",
      "Class p2:\n",
      "Precision: 0.8300863967474166\n",
      "Recall: 0.9104422147900408\n",
      "F1 Score: 0.8684093929995569\n",
      "\n",
      "Class p3:\n",
      "Precision: 0.4414945919370698\n",
      "Recall: 0.321173104434907\n",
      "F1 Score: 0.3718426501035197\n",
      "\n",
      "Class p4:\n",
      "Precision: 0.7735849056603774\n",
      "Recall: 0.7109826589595376\n",
      "F1 Score: 0.7409638554216867\n",
      "\n"
     ]
    }
   ],
   "source": [
    "#model fitting - version 0 \n",
    "# 1. Logistic Regression\n",
    "logreg_classifier = LogisticRegression(multi_class='multinomial', solver='lbfgs', max_iter=500, random_state=42)\n",
    "logreg_classifier.fit(X_train, y_train)\n",
    "y_pred_logreg = logreg_classifier.predict(X_test)\n",
    "\n",
    "accuracy_logreg = accuracy_score(y_test, y_pred_logreg)\n",
    "print(f'Logistic Regression Accuracy: {accuracy_logreg}\\n')\n",
    "\n",
    "# 2. Decision Tree\n",
    "dt_classifier = DecisionTreeClassifier(random_state=42)\n",
    "dt_classifier.fit(X_train, y_train)\n",
    "y_pred_dt = dt_classifier.predict(X_test)\n",
    "\n",
    "accuracy_dt = accuracy_score(y_test, y_pred_dt)\n",
    "print(f'Decision Tree Accuracy: {accuracy_dt}\\n')\n",
    "\n",
    "# 3. Random Forest\n",
    "rf_classifier = RandomForestClassifier(n_estimators=200, random_state=42)\n",
    "rf_classifier.fit(X_train, y_train)\n",
    "y_pred_rf = rf_classifier.predict(X_test)\n",
    "\n",
    "accuracy_rf = accuracy_score(y_test, y_pred_rf)\n",
    "print(f'Random Forest Accuracy: {accuracy_rf}\\n')\n",
    "\n",
    "# 4. XGBoost\n",
    "xgb_classifier = xgb.XGBClassifier(objective='multi:softmax', num_class = 4, n_estimators=200, random_state=42)\n",
    "xgb_classifier.fit(X_train, y_train)\n",
    "y_pred_xgb = xgb_classifier.predict(X_test)\n",
    "\n",
    "accuracy_xgb = accuracy_score(y_test, y_pred_xgb)\n",
    "print(f'XGBoost Accuracy: {accuracy_xgb}\\n')\n",
    "\n",
    "# Precision, Recall, F1-score for Logistic Regression, Decision Tree, Random Forest, and XGBoost\n",
    "models = {\n",
    "    'Logistic Regression': y_pred_logreg, \n",
    "    'Decision Tree': y_pred_dt, \n",
    "    'Random Forest': y_pred_rf, \n",
    "    'XGBoost': y_pred_xgb\n",
    "}\n",
    "\n",
    "for model_name, y_pred in models.items():\n",
    "    print(f\"\\nResults for {model_name}:\")\n",
    "    precision, recall, f1_score, _ = precision_recall_fscore_support(y_test, y_pred)\n",
    "    \n",
    "    for i, v in enumerate(['p1', 'p2', 'p3', 'p4']):\n",
    "        print(f\"Class {v}:\")\n",
    "        print(f\"Precision: {precision[i]}\")\n",
    "        print(f\"Recall: {recall[i]}\")\n",
    "        print(f\"F1 Score: {f1_score[i]}\\n\")"
   ]
  },
  {
   "cell_type": "code",
   "execution_count": 41,
   "id": "2b5768d2-412b-4845-a86b-46f2593b2dd5",
   "metadata": {},
   "outputs": [],
   "source": [
    "#since XGBoost performs well will proceed with futher engineering\n",
    "#accruacy will not be used in imbalanced dataset - accuracy \n",
    "#recall in confusion matrix is taken out for each variable and much more important in imbalanced dataset \n",
    "#but recall can be manipulated too so we go with F1 score "
   ]
  },
  {
   "cell_type": "code",
   "execution_count": 42,
   "id": "6b9c405e-75a6-46d3-9771-66e6ae980955",
   "metadata": {},
   "outputs": [
    {
     "data": {
      "text/plain": [
       "Approved_Flag\n",
       "P2    27210\n",
       "P3     7062\n",
       "P4     5722\n",
       "P1     4996\n",
       "Name: count, dtype: int64"
      ]
     },
     "execution_count": 42,
     "metadata": {},
     "output_type": "execute_result"
    }
   ],
   "source": [
    "#checking for class imbalance \n",
    "df['Approved_Flag'].value_counts()\n",
    "#P2 is quite high"
   ]
  },
  {
   "cell_type": "code",
   "execution_count": 43,
   "id": "76ca305b-209f-44cf-b075-e4c74a627c70",
   "metadata": {},
   "outputs": [],
   "source": [
    "#rmse is scale dependent- if scale is too high and rmse value is small then its good model , for low scale its bad to have same rmse as the one before \n",
    "#mape is scale independent its in percentage , but if divided by zero can't find out MAPE"
   ]
  },
  {
   "cell_type": "code",
   "execution_count": 44,
   "id": "a69e57a6-632e-4df5-a647-769a1819d2dd",
   "metadata": {},
   "outputs": [
    {
     "name": "stdout",
     "output_type": "stream",
     "text": [
      "Fitting 3 folds for each of 720 candidates, totalling 2160 fits\n",
      "Best hyperparameters: {'alpha': 1, 'colsample_bytree': 0.7, 'learning_rate': 0.1, 'max_depth': 5, 'n_estimators': 100}\n"
     ]
    }
   ],
   "source": [
    "#hyperparameter tuning -\n",
    "from sklearn.model_selection import GridSearchCV\n",
    "param_grid = {\n",
    "    'colsample_bytree': [0.1, 0.3, 0.5, 0.7, 0.9],\n",
    "    'learning_rate': [0.001, 0.01, 0.1, 1],\n",
    "    'max_depth': [3, 5, 8, 10],\n",
    "    'alpha': [1, 10, 100],\n",
    "    'n_estimators': [10, 50, 100]\n",
    "}\n",
    "\n",
    "xgb_model = xgb.XGBClassifier(random_state=42)\n",
    "grid_search = GridSearchCV(estimator=xgb_model, param_grid=param_grid, scoring='accuracy', cv=3, verbose=1)\n",
    "grid_search.fit(X_train, y_train)\n",
    "\n",
    "# Get the best parameters from the grid search\n",
    "best_params = grid_search.best_params_\n",
    "print(f\"Best hyperparameters: {best_params}\")\n",
    "\n"
   ]
  },
  {
   "cell_type": "code",
   "execution_count": 45,
   "id": "ee472050-7c0c-40a2-b04c-2bba86eb8e3a",
   "metadata": {},
   "outputs": [
    {
     "name": "stdout",
     "output_type": "stream",
     "text": [
      "Accuracy: 78.01%\n"
     ]
    }
   ],
   "source": [
    "# Use the best model to make predictions\n",
    "best_model = grid_search.best_estimator_\n",
    "y_pred = best_model.predict(X_test)\n",
    "\n",
    "accuracy = accuracy_score(y_test, y_pred)\n",
    "print(f\"Accuracy: {accuracy * 100:.2f}%\")"
   ]
  },
  {
   "cell_type": "code",
   "execution_count": 46,
   "id": "49fc172b-b30a-42e2-b471-0318b49901c2",
   "metadata": {},
   "outputs": [
    {
     "name": "stdout",
     "output_type": "stream",
     "text": [
      "\n",
      "Results for Class p1:\n",
      "Precision: 0.8284789644012945\n",
      "Recall: 0.76266137040715\n",
      "F1 Score: 0.7942088934850051\n",
      "\n",
      "Results for Class p2:\n",
      "Precision: 0.8164030653839882\n",
      "Recall: 0.9303232998885173\n",
      "F1 Score: 0.8696482848458532\n",
      "\n",
      "Results for Class p3:\n",
      "Precision: 0.44802867383512546\n",
      "Recall: 0.26824034334763946\n",
      "F1 Score: 0.33557046979865773\n",
      "\n",
      "Results for Class p4:\n",
      "Precision: 0.7892824704813806\n",
      "Recall: 0.717588769611891\n",
      "F1 Score: 0.7517301038062284\n",
      "\n",
      "Results for macro avg:\n",
      "Precision: 0.7205482935254471\n",
      "Recall: 0.6697034458137994\n",
      "F1 Score: 0.6877894379839361\n",
      "\n",
      "Results for weighted avg:\n",
      "Precision: 0.7568709460794826\n",
      "Recall: 0.7800622360524561\n",
      "F1 Score: 0.7623569790250776\n"
     ]
    }
   ],
   "source": [
    "class_report = classification_report(y_test, y_pred, target_names=['Class p1', 'Class p2', 'Class p3', 'Class p4'], output_dict=True)\n",
    "\n",
    "# Output the results for each class\n",
    "for class_name, metrics in class_report.items():\n",
    "    if isinstance(metrics, dict): \n",
    "        print(f\"\\nResults for {class_name}:\")\n",
    "        print(f\"Precision: {metrics['precision']}\")\n",
    "        print(f\"Recall: {metrics['recall']}\")\n",
    "        print(f\"F1 Score: {metrics['f1-score']}\")"
   ]
  }
 ],
 "metadata": {
  "kernelspec": {
   "display_name": "Python 3 (ipykernel)",
   "language": "python",
   "name": "python3"
  },
  "language_info": {
   "codemirror_mode": {
    "name": "ipython",
    "version": 3
   },
   "file_extension": ".py",
   "mimetype": "text/x-python",
   "name": "python",
   "nbconvert_exporter": "python",
   "pygments_lexer": "ipython3",
   "version": "3.12.4"
  }
 },
 "nbformat": 4,
 "nbformat_minor": 5
}
